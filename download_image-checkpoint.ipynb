{
  "cells": [
    {
      "metadata": {
        "collapsed": true,
        "trusted": false
      },
      "cell_type": "code",
      "source": "import random\nimport urllib.request\n\ndef download_image (url):\n    name = random.randrange(23,999)\n    full_name = str(\"name\") + \".jpg\"\n    urllib.request.urlretrieve(url, full_name)\n\ndownload_image(\"https://buckysroom.org/photos/users/2/resized/2463a86fdf42a1681c66baBfd6789f9d.jpg\")\n#print (download_image(\"https://buckysroom.org/photos/users/2/resized/2463a86fdf42a1681c66baBfd6789f9d.jpg\"))",
      "execution_count": null,
      "outputs": []
    }
  ],
  "metadata": {
    "kernelspec": {
      "name": "python36",
      "display_name": "Python 3.6",
      "language": "python"
    },
    "language_info": {
      "mimetype": "text/x-python",
      "nbconvert_exporter": "python",
      "name": "python",
      "pygments_lexer": "ipython3",
      "version": "3.6.6",
      "file_extension": ".py",
      "codemirror_mode": {
        "version": 3,
        "name": "ipython"
      }
    }
  },
  "nbformat": 4,
  "nbformat_minor": 2
}