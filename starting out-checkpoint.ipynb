{
  "cells": [
    {
      "metadata": {
        "trusted": true
      },
      "cell_type": "code",
      "source": "age= 36\n\nif age<30:\n    print('wait your time bruh!')\nelif age>30:\n    print('shall we drown now')\n",
      "execution_count": null,
      "outputs": []
    },
    {
      "metadata": {
        "trusted": true
      },
      "cell_type": "code",
      "source": "name =\"me\"\nif name is  \"me\":\n     print(\"hey there me\")\nelif name is 'you':\n    print(\"hey you\")\n",
      "execution_count": null,
      "outputs": []
    },
    {
      "metadata": {
        "trusted": true
      },
      "cell_type": "code",
      "source": "contacts=['me', 'I', 'you', 'her', 'him', 'we', 'us', 'them']\n\nfor i in contacts:\n    print(i)\n    print(len(i))\n",
      "execution_count": null,
      "outputs": []
    },
    {
      "metadata": {
        "trusted": true
      },
      "cell_type": "code",
      "source": "for f in range(5,100, 9):\n    print(f)",
      "execution_count": null,
      "outputs": []
    },
    {
      "metadata": {
        "trusted": true
      },
      "cell_type": "code",
      "source": "x=6\n\nwhile x<18:\n    print(x)\n    x+=1",
      "execution_count": null,
      "outputs": []
    },
    {
      "metadata": {
        "trusted": true
      },
      "cell_type": "code",
      "source": "print(\"\\nthis is the next part \\n\")\nkot= 30\n\nfor my in range(100):\n    if my is kot:\n        print(my, \"is equal to kot\")\n        break\n    print (n)\n",
      "execution_count": null,
      "outputs": []
    },
    {
      "metadata": {
        "trusted": true
      },
      "cell_type": "code",
      "source": "print(\"\\nthis is the next part \\n\")\n\nfor d in range(0, 100):\n    if (d%4) == 0:\n        print(d)\n\nfor dq in range(0,130):\n    if (dq%7)==0:\n        continue\n    print(dq)",
      "execution_count": null,
      "outputs": []
    },
    {
      "metadata": {
        "trusted": true
      },
      "cell_type": "code",
      "source": "print(\"\\nthis is the next part \\n\")\nsquares = [1, 4, 9, 16, 25]\nfor q in range (len(squares)):\n    print (squares[q])\nprint (\"separating using space\")\nprint (*squares)\nprint (\"separating using commas\")\nprint (*squares, sep=\",\")\nprint (\"separate using new line\")\nprint (*squares, sep=\"\\n\")\n",
      "execution_count": null,
      "outputs": []
    },
    {
      "metadata": {
        "trusted": true
      },
      "cell_type": "code",
      "source": "print(\"\\nthis is the next part \\n\")\n\ndef summation (a,b):\n    sum= a+b\n    print (\"sum =\", sum)\n\nsummation (56,80)\n",
      "execution_count": null,
      "outputs": []
    },
    {
      "metadata": {
        "trusted": true
      },
      "cell_type": "code",
      "source": "print(\"\\nthis is the next part \\n\")\n\ndef age_allowed (your_age):\n    hers = ((your_age / 2) + (your_age / 3))\n    return hers\nlimit= age_allowed (59)\nprint (limit)\nprint (age_allowed(43))\nprint (\"I dunno whats going to happen next\")\nprint (limit)\n\nfor your_age in range (15,60):\n    if your_age is 15:\n        print (\"YOUR AGE\\t\\t\\t\\t\\t\\t\\t\\tHERS \\n\")\n        print (your_age, \"\\t\\t\\t\\t\\t\\t\\t\\t\",age_allowed(your_age), \"\\n\")\n        continue\n    else:\n        print(your_age, \"\\t\\t\\t\\t\\t\\t\\t\\t\", age_allowed(your_age), \"\\n\")\n\nprint (\"THANK YOU NEXT:)\")",
      "execution_count": null,
      "outputs": []
    },
    {
      "metadata": {
        "trusted": true
      },
      "cell_type": "code",
      "source": "def marriage_status (status ='hatambui'):\n    if status is 'm':\n        print (\"MARRIED\")\n    elif  status is 's':\n        print(\"SINGLE\")\n    elif status is'd':\n        print(\"DIVORCED\")\n    else:\n        print (\"hatambui\")\n\nprint (marriage_status('m'))\nprint (marriage_status('s'))\nprint (marriage_status('d'))\nprint (\"THANK YOU NEXT:)\")",
      "execution_count": null,
      "outputs": []
    },
    {
      "metadata": {
        "trusted": true
      },
      "cell_type": "code",
      "source": "def add_numbers (*args):\n    total=0\n    for a in args:\n        total +=a\n    print (total, )\n\nadd_numbers (3)\nadd_numbers(3,5,6)\nadd_numbers(15,7,9,5,62,5,6,555,5,55,5,55,51,478,5,7,7,4,5,5,5,8,8,77)\n",
      "execution_count": null,
      "outputs": []
    },
    {
      "metadata": {
        "trusted": true
      },
      "cell_type": "code",
      "source": "def math (a, b, c, d):\n    output= a+b+c+d\n    print (output)\n\ninput = [1, 2, 3, 4]\ninput2 = [1,2,3,4,5,6,7,8,9,10,11,12,13,14,15,16,17,18,19,20]\n\nmath (input[0], input[1], input[2], input[3])\nmath (*input)\n",
      "execution_count": null,
      "outputs": []
    },
    {
      "metadata": {
        "trusted": true
      },
      "cell_type": "code",
      "source": "classmates = {'me':\"I'm awesome\", 'you': \"you're kinda awesome too\", 'her': \"I dunno if she's awesome\", 'him':\"don't really care\", 'them': \"definitely not awesome\"}\nprint (classmates)\nprint(classmates ['me'])\nfor k,v in classmates.items():\n    print(k, v)",
      "execution_count": null,
      "outputs": []
    },
    {
      "metadata": {
        "trusted": true
      },
      "cell_type": "code",
      "source": "myName= (\"aDA lovelace\")\nprint (myName.title())\nprint (myName.upper())\nprint (myName.lower())\n",
      "execution_count": null,
      "outputs": []
    },
    {
      "metadata": {
        "trusted": true
      },
      "cell_type": "code",
      "source": "import random\n\nfor a in range(150):\n    x = random.randrange(123, 1000)\n    print (x)\n",
      "execution_count": null,
      "outputs": []
    },
    {
      "metadata": {
        "trusted": true
      },
      "cell_type": "code",
      "source": "favourite= 'you    '\nprint(len(favourite))\nprint (favourite)\nfavourite.rstrip()\nprint (len(favourite.rstrip()))\nprint (favourite.rstrip())\nprint (len(favourite.rstrip()))\nprint (favourite)\nprint (len(favourite))\n\n",
      "execution_count": 11,
      "outputs": [
        {
          "output_type": "stream",
          "text": "7\nyou    \n3\nyou\n3\nyou    \n7\n",
          "name": "stdout"
        }
      ]
    },
    {
      "metadata": {
        "trusted": true
      },
      "cell_type": "code",
      "source": "import this",
      "execution_count": 10,
      "outputs": []
    },
    {
      "metadata": {
        "trusted": true
      },
      "cell_type": "code",
      "source": "if (1990%100) != 0:\n    print (True)\nelse:\n    print (False)",
      "execution_count": 17,
      "outputs": [
        {
          "output_type": "stream",
          "text": "True\n",
          "name": "stdout"
        }
      ]
    },
    {
      "metadata": {
        "trusted": true
      },
      "cell_type": "code",
      "source": "def is_leap(year):\n    leap = False\n    \n    # Write your logic here\n    if (year % 4==0) :\n        if((year%100) == 0) and (year%400==0) :\n            leap = True       \n     \n    \n    return leap\n\nyear = int (input())\nprint (is_leap (year))",
      "execution_count": null,
      "outputs": []
    },
    {
      "metadata": {
        "trusted": true
      },
      "cell_type": "code",
      "source": "text=input()\nprint (text)\nyear=int (input())\nprint (year)",
      "execution_count": null,
      "outputs": []
    },
    {
      "metadata": {
        "trusted": true
      },
      "cell_type": "code",
      "source": "",
      "execution_count": null,
      "outputs": []
    }
  ],
  "metadata": {
    "kernelspec": {
      "name": "python36",
      "display_name": "Python 3.6",
      "language": "python"
    },
    "language_info": {
      "mimetype": "text/x-python",
      "nbconvert_exporter": "python",
      "name": "python",
      "pygments_lexer": "ipython3",
      "version": "3.6.6",
      "file_extension": ".py",
      "codemirror_mode": {
        "version": 3,
        "name": "ipython"
      }
    }
  },
  "nbformat": 4,
  "nbformat_minor": 2
}