{
  "cells": [
    {
      "metadata": {
        "collapsed": true,
        "trusted": false
      },
      "cell_type": "code",
      "source": "from urllib import requests\nnz_url = 'https://www.stats.govt.nz/assets/Uploads/Annual-enterprise-survey/Annual-enterprise-survey-2018-financial-year-provisional/Download-data/annual-enterprise-survey-2018-financial-year-provisional-csv.csv'\n\ndef download_stats (csv_url):\n    resp = request.urlopen(csv_url)\n    csv = resp.read()\n    csvString = str(csv)\n    csvLines = csvString.split(\"\\\\n\")\n    destination_url = r'nz.csv'\n    fw = open(destination_url, \"w\")\n    for line in csvLines:\n        fw.write(csvLines + \"\\n\")\n    fw.close()\n\ndownload_stats(nz_url)",
      "execution_count": null,
      "outputs": []
    }
  ],
  "metadata": {
    "kernelspec": {
      "name": "python36",
      "display_name": "Python 3.6",
      "language": "python"
    },
    "language_info": {
      "mimetype": "text/x-python",
      "nbconvert_exporter": "python",
      "name": "python",
      "pygments_lexer": "ipython3",
      "version": "3.6.6",
      "file_extension": ".py",
      "codemirror_mode": {
        "version": 3,
        "name": "ipython"
      }
    }
  },
  "nbformat": 4,
  "nbformat_minor": 2
}