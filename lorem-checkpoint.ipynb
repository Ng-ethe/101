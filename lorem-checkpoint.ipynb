{
  "cells": [
    {
      "metadata": {
        "trusted": true
      },
      "cell_type": "code",
      "source": "file_write = open ('lorem_ipsum.txt', 'w')\nfile_write.write(\"S o I have some lorem ipsum down here.\\n\")\nfile_write.write(\"though I don't know what any of it means.\\n\")\nfile_write.write(\"Lorem ipsum dolor sit amet, \"\n                 \"\\nconsectetur adipisicing elit, \"\n                 \"\\nsed do eiusmod tempor incididunt ut labore et dolore magna aliqua.\"\n                 \"\\n Ut enim ad minim veniam, \"\n                 \"\\nquis nostrud exercitation ullamco laboris nisi ut aliquip ex ea commodo consequat. \"\n                 \"\\nDuis aute irure dolor in reprehenderit in voluptate velit esse cillum dolore eu fugiat nulla pariatur. \"\n                 \"\\nExcepteur sint occaecat cupidatat non proident, \"\n                 \"\\nsunt in culpa qui officia deserunt mollit anim id est laborum.\")\nfile_write.close()\n\nfile_read = open ('lorem_ipsum.txt', 'r')\ntext = file_read.read()\nprint (text)\nfile_read.close()",
      "execution_count": 1,
      "outputs": [
        {
          "output_type": "stream",
          "text": "S o I have some lorem ipsum down here.\nthough I don't know what any of it means.\nLorem ipsum dolor sit amet, \nconsectetur adipisicing elit, \nsed do eiusmod tempor incididunt ut labore et dolore magna aliqua.\n Ut enim ad minim veniam, \nquis nostrud exercitation ullamco laboris nisi ut aliquip ex ea commodo consequat. \nDuis aute irure dolor in reprehenderit in voluptate velit esse cillum dolore eu fugiat nulla pariatur. \nExcepteur sint occaecat cupidatat non proident, \nsunt in culpa qui officia deserunt mollit anim id est laborum.\n",
          "name": "stdout"
        }
      ]
    },
    {
      "metadata": {
        "trusted": true
      },
      "cell_type": "code",
      "source": "",
      "execution_count": null,
      "outputs": []
    }
  ],
  "metadata": {
    "kernelspec": {
      "name": "python36",
      "display_name": "Python 3.6",
      "language": "python"
    },
    "language_info": {
      "mimetype": "text/x-python",
      "nbconvert_exporter": "python",
      "name": "python",
      "pygments_lexer": "ipython3",
      "version": "3.6.6",
      "file_extension": ".py",
      "codemirror_mode": {
        "version": 3,
        "name": "ipython"
      }
    }
  },
  "nbformat": 4,
  "nbformat_minor": 2
}