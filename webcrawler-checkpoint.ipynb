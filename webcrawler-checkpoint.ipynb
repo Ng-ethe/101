{
  "cells": [
    {
      "metadata": {
        "collapsed": true,
        "trusted": false
      },
      "cell_type": "code",
      "source": "import requests\nfrom bs4 import BeautifulSoup\n\ndef trade_spider(max_pages):\n    page=1\n    while page <= max_pages :\n        url = 'https://buckysroom.org/trade/search.php?page=' + str(page)\n        source_code = requests.get(url)\n        plain_text = source_code.text\n        soup = BeautifulSoup(plain_text )\n        for link in soup.findAll('a', {'class': 'item-name'}):\n            href = \"https://buckysroom.org\" + link.get('href')\n            title = link.string\n            print(title)\n            print(href)\n        page +=1\n\ntrade_spider(1)",
      "execution_count": null,
      "outputs": []
    }
  ],
  "metadata": {
    "kernelspec": {
      "name": "python36",
      "display_name": "Python 3.6",
      "language": "python"
    },
    "language_info": {
      "mimetype": "text/x-python",
      "nbconvert_exporter": "python",
      "name": "python",
      "pygments_lexer": "ipython3",
      "version": "3.6.6",
      "file_extension": ".py",
      "codemirror_mode": {
        "version": 3,
        "name": "ipython"
      }
    }
  },
  "nbformat": 4,
  "nbformat_minor": 2
}